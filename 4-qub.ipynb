{
 "cells": [
  {
   "cell_type": "code",
   "execution_count": 55,
   "metadata": {},
   "outputs": [],
   "source": [
    "from qiskit import QuantumCircuit, execute, Aer, QuantumRegister, ClassicalRegister\n",
    "import numpy as np\n",
    "\n",
    "def print_state(dense_state):\n",
    "    \"\"\"\n",
    "    Prints a *dense_state* with kets. Compatible with quimb states.\n",
    "\n",
    "    Parameters\n",
    "    ----------\n",
    "    dense_state: array_like\n",
    "            Dense representation of a quantum state\n",
    "\n",
    "    Returns\n",
    "    -------\n",
    "    None: None\n",
    "    \"\"\"\n",
    "\n",
    "    NN = int(np.log2(len(dense_state)))\n",
    "\n",
    "    binaries = [bin(ii)[2:] for ii in range(2**NN)]\n",
    "    binaries = ['0'*(NN-len(a)) + a for a in binaries] #Pad with 0s\n",
    "\n",
    "    ket = []\n",
    "    for ii, coef in enumerate(dense_state):\n",
    "        if not np.isclose(np.abs(coef), 0.):\n",
    "            if np.isclose(np.imag(coef), 0.):\n",
    "                if np.isclose(np.real(coef), 1.):\n",
    "                    ket.append('|{}>'.format(binaries[ii]))\n",
    "                else:\n",
    "                    ket.append('{:.3f}|{}>'.format(np.real(coef), binaries[ii]))\n",
    "            else:\n",
    "                ket.append('{:.3f}|{}>'.format(coef, binaries[ii]))\n",
    "    print(' + '.join(ket))\n",
    "\n",
    "def qiskit_get_statevect(qc):\n",
    "    \"\"\"\n",
    "        Returns the statevector of the qiskit quantum circuit *qc*\n",
    "\n",
    "        Parameters\n",
    "        ----------\n",
    "        qc: Quantum circuit\n",
    "            Quantum circuit of which we want the statevector\n",
    "\n",
    "        Returns\n",
    "        -------\n",
    "        st: array_like\n",
    "            Statevector of the quantum circuit after the application\n",
    "            of the reverse operation on the qubit's ordering\n",
    "    \"\"\"\n",
    "    statevector = execute(qc, Aer.get_backend('statevector_simulator')).result()\n",
    "    statevector = statevector.get_statevector()\n",
    "\n",
    "    return statevector"
   ]
  },
  {
   "cell_type": "markdown",
   "metadata": {},
   "source": [
    "We first create a bell state with all the 5 qubits. Notice that we have a connectivity map with a X"
   ]
  },
  {
   "cell_type": "code",
   "execution_count": 60,
   "metadata": {},
   "outputs": [
    {
     "name": "stdout",
     "output_type": "stream",
     "text": [
      "             ┌───┐                          \n",
      "q180_0: ─────┤ X ├─────────────────────■────\n",
      "             └─┬─┘┌───┐                │    \n",
      "q180_1: ───────┼──┤ X ├────────────────┼────\n",
      "        ┌───┐  │  └─┬─┘          ┌───┐ │ ┌─┐\n",
      "q180_2: ┤ H ├──■────■────■────■──┤ H ├─■─┤M├\n",
      "        └───┘          ┌─┴─┐  │  └───┘   └╥┘\n",
      "q180_3: ───────────────┤ X ├──┼───────────╫─\n",
      "                       └───┘┌─┴─┐         ║ \n",
      "q180_4: ────────────────────┤ X ├─────────╫─\n",
      "                            └───┘         ║ \n",
      "  c1: 1/══════════════════════════════════╩═\n",
      "                                          0 \n"
     ]
    }
   ],
   "source": [
    "qreg = QuantumRegister(5)\n",
    "creg = ClassicalRegister(1)\n",
    "qc = QuantumCircuit( qreg, creg)\n",
    "\n",
    "qc.h(2)\n",
    "for ii in range(5):\n",
    "    if ii==2:\n",
    "        continue\n",
    "    qc.cx(2, ii)\n",
    "\n",
    "qc.h(2)\n",
    "qc.cz(0, 2)\n",
    "qc.measure(2, 0)\n",
    "\n",
    "print(qc)"
   ]
  },
  {
   "cell_type": "code",
   "execution_count": 61,
   "metadata": {},
   "outputs": [
    {
     "name": "stdout",
     "output_type": "stream",
     "text": [
      "0.707|00100> + 0.707|11111>\n"
     ]
    }
   ],
   "source": [
    "statevect = qiskit_get_statevect(qc)\n",
    "print_state(statevect)"
   ]
  },
  {
   "cell_type": "code",
   "execution_count": 62,
   "metadata": {},
   "outputs": [
    {
     "name": "stdout",
     "output_type": "stream",
     "text": [
      "             ┌───┐                       ┌───┐                            »\n",
      "q180_0: ─────┤ X ├─────────────────────■─┤ X ├───────■────────────────────»\n",
      "             └─┬─┘┌───┐                │ └───┘       │                    »\n",
      "q180_1: ───────┼──┤ X ├────────────────┼─────────────┼────■───────────────»\n",
      "        ┌───┐  │  └─┬─┘          ┌───┐ │  ┌─┐      ┌─┴─┐┌─┴─┐┌───┐┌───┐┌─┐»\n",
      "q180_2: ┤ H ├──■────■────■────■──┤ H ├─■──┤M├──|0>─┤ X ├┤ X ├┤ X ├┤ X ├┤M├»\n",
      "        └───┘          ┌─┴─┐  │  └───┘    └╥┘      └───┘└───┘└─┬─┘└─┬─┘└╥┘»\n",
      "q180_3: ───────────────┤ X ├──┼────────────╫───────────────────■────┼───╫─»\n",
      "                       └───┘┌─┴─┐          ║                        │   ║ »\n",
      "q180_4: ────────────────────┤ X ├──────────╫────────────────────────■───╫─»\n",
      "                            └───┘          ║                            ║ »\n",
      "  c1: 1/═══════════════════════════════════╩════════════════════════════╩═»\n",
      "                                           0                            0 »\n",
      "«         ┌───┐ \n",
      "«q180_0: ─┤ X ├─\n",
      "«         └─╥─┘ \n",
      "«q180_1: ───╫───\n",
      "«           ║   \n",
      "«q180_2: ───╫───\n",
      "«           ║   \n",
      "«q180_3: ───╫───\n",
      "«           ║   \n",
      "«q180_4: ───╫───\n",
      "«        ┌──╨──┐\n",
      "«  c1: 1/╡ = 1 ╞\n",
      "«        └─────┘\n",
      "0.707|00100> + 0.707|11111>\n"
     ]
    }
   ],
   "source": [
    "qc1 = qc.copy()\n",
    "qc1.x(0)\n",
    "qc1.reset(2)\n",
    "qc1.cx(0, 2)\n",
    "qc1.cx(1, 2)\n",
    "qc1.cx(3, 2)\n",
    "qc1.cx(4, 2)\n",
    "qc1.measure(2, 0)\n",
    "qc1.x(0).c_if(creg, 1)\n",
    "\n",
    "print(qc1)\n",
    "\n",
    "statevect = qiskit_get_statevect(qc1)\n",
    "print_state(statevect)"
   ]
  },
  {
   "cell_type": "code",
   "execution_count": null,
   "metadata": {},
   "outputs": [],
   "source": []
  }
 ],
 "metadata": {
  "interpreter": {
   "hash": "639848ca415c9b0e020bb8071f32c875f804b698c3fc0c66541f206d1ea5634d"
  },
  "kernelspec": {
   "display_name": "Python 3.9.7 64-bit ('py_tn': venv)",
   "language": "python",
   "name": "python3"
  },
  "language_info": {
   "codemirror_mode": {
    "name": "ipython",
    "version": 3
   },
   "file_extension": ".py",
   "mimetype": "text/x-python",
   "name": "python",
   "nbconvert_exporter": "python",
   "pygments_lexer": "ipython3",
   "version": "3.9.7"
  },
  "orig_nbformat": 4
 },
 "nbformat": 4,
 "nbformat_minor": 2
}
