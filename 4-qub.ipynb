{
 "cells": [
  {
   "cell_type": "code",
   "execution_count": 22,
   "metadata": {},
   "outputs": [],
   "source": [
    "from qiskit import QuantumCircuit, execute, Aer, QuantumRegister, ClassicalRegister\n",
    "from qiskit.visualization import plot_histogram\n",
    "import numpy as np\n",
    "import os\n",
    "from getpass import getpass\n",
    "from quantuminspire.credentials import enable_account\n",
    "from quantuminspire.credentials import get_authentication\n",
    "from quantuminspire.qiskit import QI\n",
    "import matplotlib.pyplot as plt\n",
    "\n",
    "QI_URL = os.getenv('QI_URL', 'https://api.quantum-inspire.com/')\n",
    "\n",
    "with open('CREDENTIAL.txt', 'r') as fh:\n",
    "    enable_account( fh.read().replace('\\n', '') )\n",
    "authentication = get_authentication()\n",
    "QI.set_authentication(authentication, QI_URL)\n",
    "qi_backend = QI.get_backend('QX single-node simulator')\n",
    "starmon_backend = QI.get_backend('Starmon-5')\n",
    "\n",
    "def print_state(dense_state):\n",
    "    \"\"\"\n",
    "    Prints a *dense_state* with kets. Compatible with quimb states.\n",
    "\n",
    "    Parameters\n",
    "    ----------\n",
    "    dense_state: array_like\n",
    "            Dense representation of a quantum state\n",
    "\n",
    "    Returns\n",
    "    -------\n",
    "    None: None\n",
    "    \"\"\"\n",
    "\n",
    "    NN = int(np.log2(len(dense_state)))\n",
    "\n",
    "    binaries = [bin(ii)[2:] for ii in range(2**NN)]\n",
    "    binaries = ['0'*(NN-len(a)) + a for a in binaries] #Pad with 0s\n",
    "\n",
    "    ket = []\n",
    "    for ii, coef in enumerate(dense_state):\n",
    "        if not np.isclose(np.abs(coef), 0.):\n",
    "            if np.isclose(np.imag(coef), 0.):\n",
    "                if np.isclose(np.real(coef), 1.):\n",
    "                    ket.append('|{}>'.format(binaries[ii]))\n",
    "                else:\n",
    "                    ket.append('{:.3f}|{}>'.format(np.real(coef), binaries[ii]))\n",
    "            else:\n",
    "                ket.append('{:.3f}|{}>'.format(coef, binaries[ii]))\n",
    "    print(' + '.join(ket))\n",
    "\n",
    "def qiskit_get_statevect(qc, backend = Aer.get_backend('statevector_simulator')):\n",
    "    \"\"\"\n",
    "        Returns the statevector of the qiskit quantum circuit *qc*\n",
    "\n",
    "        Parameters\n",
    "        ----------\n",
    "        qc: Quantum circuit\n",
    "            Quantum circuit of which we want the statevector\n",
    "\n",
    "        Returns\n",
    "        -------\n",
    "        st: array_like\n",
    "            Statevector of the quantum circuit after the application\n",
    "            of the reverse operation on the qubit's ordering\n",
    "    \"\"\"\n",
    "    statevector = execute(qc, backend).result()\n",
    "    statevector = statevector.get_statevector()\n",
    "\n",
    "    return statevector"
   ]
  },
  {
   "cell_type": "markdown",
   "metadata": {},
   "source": [
    "We first create a bell state with all the 5 qubits. Notice that we have a connectivity map with a X"
   ]
  },
  {
   "cell_type": "code",
   "execution_count": 28,
   "metadata": {},
   "outputs": [
    {
     "name": "stdout",
     "output_type": "stream",
     "text": [
      "            ┌───┐                           ░ ┌─┐            \n",
      "q31_0: ─────┤ X ├─────────────────────■─────░─┤M├────────────\n",
      "            └─┬─┘┌───┐                │     ░ └╥┘┌─┐         \n",
      "q31_1: ───────┼──┤ X ├────────────────┼─────░──╫─┤M├─────────\n",
      "       ┌───┐  │  └─┬─┘          ┌───┐ │ ┌─┐ ░  ║ └╥┘┌─┐      \n",
      "q31_2: ┤ H ├──■────■────■────■──┤ H ├─■─┤M├─░──╫──╫─┤M├──────\n",
      "       └───┘          ┌─┴─┐  │  └───┘   └╥┘ ░  ║  ║ └╥┘┌─┐   \n",
      "q31_3: ───────────────┤ X ├──┼───────────╫──░──╫──╫──╫─┤M├───\n",
      "                      └───┘┌─┴─┐         ║  ░  ║  ║  ║ └╥┘┌─┐\n",
      "q31_4: ────────────────────┤ X ├─────────╫──░──╫──╫──╫──╫─┤M├\n",
      "                           └───┘         ║  ░  ║  ║  ║  ║ └╥┘\n",
      " c5: 5/══════════════════════════════════╩═════╩══╩══╩══╩══╩═\n",
      "                                         2     0  1  2  3  4 \n"
     ]
    }
   ],
   "source": [
    "qreg = QuantumRegister(5)\n",
    "creg = ClassicalRegister(5)\n",
    "qc = QuantumCircuit( qreg, creg)\n",
    "\n",
    "qc.h(2)\n",
    "for ii in range(5):\n",
    "    if ii==2:\n",
    "        continue\n",
    "    qc.cx(2, ii)\n",
    "\n",
    "qc.h(2)\n",
    "qc.cz(0, 2)\n",
    "qc.measure(2, 2)\n",
    "qc.barrier()\n",
    "\n",
    "for ii in range(5):\n",
    "    qc.measure(ii, ii)\n",
    "\n",
    "print(qc)"
   ]
  },
  {
   "cell_type": "code",
   "execution_count": 26,
   "metadata": {},
   "outputs": [
    {
     "ename": "ApiError",
     "evalue": "Gate reset not supported",
     "output_type": "error",
     "traceback": [
      "\u001b[0;31m---------------------------------------------------------------------------\u001b[0m",
      "\u001b[0;31mApiError\u001b[0m                                  Traceback (most recent call last)",
      "\u001b[0;32m/tmp/ipykernel_186807/4186212567.py\u001b[0m in \u001b[0;36m<module>\u001b[0;34m\u001b[0m\n\u001b[1;32m      1\u001b[0m \u001b[0;31m#statevect = qiskit_get_statevect(qc, qi_backend)\u001b[0m\u001b[0;34m\u001b[0m\u001b[0;34m\u001b[0m\u001b[0m\n\u001b[0;32m----> 2\u001b[0;31m \u001b[0mstatevector\u001b[0m \u001b[0;34m=\u001b[0m \u001b[0mexecute\u001b[0m\u001b[0;34m(\u001b[0m\u001b[0mqc\u001b[0m\u001b[0;34m,\u001b[0m \u001b[0mstarmon_backend\u001b[0m\u001b[0;34m)\u001b[0m\u001b[0;34m.\u001b[0m\u001b[0mresult\u001b[0m\u001b[0;34m(\u001b[0m\u001b[0;34m)\u001b[0m\u001b[0;34m\u001b[0m\u001b[0;34m\u001b[0m\u001b[0m\n\u001b[0m\u001b[1;32m      3\u001b[0m \u001b[0;31m#print_state(statevect)\u001b[0m\u001b[0;34m\u001b[0m\u001b[0;34m\u001b[0m\u001b[0m\n",
      "\u001b[0;32m~/py_env/py_tn/lib/python3.9/site-packages/qiskit/execute_function.py\u001b[0m in \u001b[0;36mexecute\u001b[0;34m(experiments, backend, basis_gates, coupling_map, backend_properties, initial_layout, seed_transpiler, optimization_level, pass_manager, qobj_id, qobj_header, shots, memory, max_credits, seed_simulator, default_qubit_los, default_meas_los, schedule_los, meas_level, meas_return, memory_slots, memory_slot_size, rep_time, rep_delay, parameter_binds, schedule_circuit, inst_map, meas_map, scheduling_method, init_qubits, **run_config)\u001b[0m\n\u001b[1;32m    341\u001b[0m         \u001b[0mrun_kwargs\u001b[0m\u001b[0;34m[\u001b[0m\u001b[0;34m'parameter_binds'\u001b[0m\u001b[0;34m]\u001b[0m \u001b[0;34m=\u001b[0m \u001b[0mparameter_binds\u001b[0m\u001b[0;34m\u001b[0m\u001b[0;34m\u001b[0m\u001b[0m\n\u001b[1;32m    342\u001b[0m         \u001b[0mrun_kwargs\u001b[0m\u001b[0;34m.\u001b[0m\u001b[0mupdate\u001b[0m\u001b[0;34m(\u001b[0m\u001b[0mrun_config\u001b[0m\u001b[0;34m)\u001b[0m\u001b[0;34m\u001b[0m\u001b[0;34m\u001b[0m\u001b[0m\n\u001b[0;32m--> 343\u001b[0;31m         \u001b[0mjob\u001b[0m \u001b[0;34m=\u001b[0m \u001b[0mbackend\u001b[0m\u001b[0;34m.\u001b[0m\u001b[0mrun\u001b[0m\u001b[0;34m(\u001b[0m\u001b[0mexperiments\u001b[0m\u001b[0;34m,\u001b[0m \u001b[0;34m**\u001b[0m\u001b[0mrun_kwargs\u001b[0m\u001b[0;34m)\u001b[0m\u001b[0;34m\u001b[0m\u001b[0;34m\u001b[0m\u001b[0m\n\u001b[0m\u001b[1;32m    344\u001b[0m         \u001b[0mend_time\u001b[0m \u001b[0;34m=\u001b[0m \u001b[0mtime\u001b[0m\u001b[0;34m(\u001b[0m\u001b[0;34m)\u001b[0m\u001b[0;34m\u001b[0m\u001b[0;34m\u001b[0m\u001b[0m\n\u001b[1;32m    345\u001b[0m         \u001b[0m_log_submission_time\u001b[0m\u001b[0;34m(\u001b[0m\u001b[0mstart_time\u001b[0m\u001b[0;34m,\u001b[0m \u001b[0mend_time\u001b[0m\u001b[0;34m)\u001b[0m\u001b[0;34m\u001b[0m\u001b[0;34m\u001b[0m\u001b[0m\n",
      "\u001b[0;32m~/py_env/py_tn/lib/python3.9/site-packages/quantuminspire/qiskit/backend_qx.py\u001b[0m in \u001b[0;36mrun\u001b[0;34m(self, circuits, shots, memory, **run_config)\u001b[0m\n\u001b[1;32m    189\u001b[0m             \u001b[0;32mif\u001b[0m \u001b[0mproject\u001b[0m \u001b[0;32mis\u001b[0m \u001b[0;32mnot\u001b[0m \u001b[0;32mNone\u001b[0m\u001b[0;34m:\u001b[0m\u001b[0;34m\u001b[0m\u001b[0;34m\u001b[0m\u001b[0m\n\u001b[1;32m    190\u001b[0m                 \u001b[0mself\u001b[0m\u001b[0;34m.\u001b[0m\u001b[0m__api\u001b[0m\u001b[0;34m.\u001b[0m\u001b[0mdelete_project\u001b[0m\u001b[0;34m(\u001b[0m\u001b[0mint\u001b[0m\u001b[0;34m(\u001b[0m\u001b[0mproject\u001b[0m\u001b[0;34m[\u001b[0m\u001b[0;34m'id'\u001b[0m\u001b[0;34m]\u001b[0m\u001b[0;34m)\u001b[0m\u001b[0;34m)\u001b[0m\u001b[0;34m\u001b[0m\u001b[0;34m\u001b[0m\u001b[0m\n\u001b[0;32m--> 191\u001b[0;31m             \u001b[0;32mraise\u001b[0m \u001b[0merror\u001b[0m\u001b[0;34m\u001b[0m\u001b[0;34m\u001b[0m\u001b[0m\n\u001b[0m\u001b[1;32m    192\u001b[0m \u001b[0;34m\u001b[0m\u001b[0m\n\u001b[1;32m    193\u001b[0m         \u001b[0mjob\u001b[0m\u001b[0;34m.\u001b[0m\u001b[0mexperiments\u001b[0m \u001b[0;34m=\u001b[0m \u001b[0mexperiments\u001b[0m\u001b[0;34m\u001b[0m\u001b[0;34m\u001b[0m\u001b[0m\n",
      "\u001b[0;32m~/py_env/py_tn/lib/python3.9/site-packages/quantuminspire/qiskit/backend_qx.py\u001b[0m in \u001b[0;36mrun\u001b[0;34m(self, circuits, shots, memory, **run_config)\u001b[0m\n\u001b[1;32m    178\u001b[0m                 \u001b[0;32mif\u001b[0m \u001b[0;32mnot\u001b[0m \u001b[0mfull_state_projection\u001b[0m\u001b[0;34m:\u001b[0m\u001b[0;34m\u001b[0m\u001b[0;34m\u001b[0m\u001b[0m\n\u001b[1;32m    179\u001b[0m                     \u001b[0mQuantumInspireBackend\u001b[0m\u001b[0;34m.\u001b[0m\u001b[0m__validate_unsupported_measurements\u001b[0m\u001b[0;34m(\u001b[0m\u001b[0mexperiment\u001b[0m\u001b[0;34m)\u001b[0m\u001b[0;34m\u001b[0m\u001b[0;34m\u001b[0m\u001b[0m\n\u001b[0;32m--> 180\u001b[0;31m                 job_for_experiment = self._submit_experiment(experiment, number_of_shots, project=project,\n\u001b[0m\u001b[1;32m    181\u001b[0m                                                              full_state_projection=full_state_projection)\n\u001b[1;32m    182\u001b[0m                 \u001b[0mjob\u001b[0m\u001b[0;34m.\u001b[0m\u001b[0madd_job\u001b[0m\u001b[0;34m(\u001b[0m\u001b[0mjob_for_experiment\u001b[0m\u001b[0;34m)\u001b[0m\u001b[0;34m\u001b[0m\u001b[0;34m\u001b[0m\u001b[0m\n",
      "\u001b[0;32m~/py_env/py_tn/lib/python3.9/site-packages/quantuminspire/qiskit/backend_qx.py\u001b[0m in \u001b[0;36m_submit_experiment\u001b[0;34m(self, experiment, number_of_shots, project, full_state_projection)\u001b[0m\n\u001b[1;32m    249\u001b[0m                            \u001b[0mproject\u001b[0m\u001b[0;34m:\u001b[0m \u001b[0mOptional\u001b[0m\u001b[0;34m[\u001b[0m\u001b[0mDict\u001b[0m\u001b[0;34m[\u001b[0m\u001b[0mstr\u001b[0m\u001b[0;34m,\u001b[0m \u001b[0mAny\u001b[0m\u001b[0;34m]\u001b[0m\u001b[0;34m]\u001b[0m \u001b[0;34m=\u001b[0m \u001b[0;32mNone\u001b[0m\u001b[0;34m,\u001b[0m\u001b[0;34m\u001b[0m\u001b[0;34m\u001b[0m\u001b[0m\n\u001b[1;32m    250\u001b[0m                            full_state_projection: bool = True) -> QuantumInspireJob:\n\u001b[0;32m--> 251\u001b[0;31m         \u001b[0mcompiled_qasm\u001b[0m \u001b[0;34m=\u001b[0m \u001b[0mself\u001b[0m\u001b[0;34m.\u001b[0m\u001b[0m_generate_cqasm\u001b[0m\u001b[0;34m(\u001b[0m\u001b[0mexperiment\u001b[0m\u001b[0;34m,\u001b[0m \u001b[0mfull_state_projection\u001b[0m\u001b[0;34m=\u001b[0m\u001b[0mfull_state_projection\u001b[0m\u001b[0;34m)\u001b[0m\u001b[0;34m\u001b[0m\u001b[0;34m\u001b[0m\u001b[0m\n\u001b[0m\u001b[1;32m    252\u001b[0m         \u001b[0mmeasurements\u001b[0m \u001b[0;34m=\u001b[0m \u001b[0mself\u001b[0m\u001b[0;34m.\u001b[0m\u001b[0m_collect_measurements\u001b[0m\u001b[0;34m(\u001b[0m\u001b[0mexperiment\u001b[0m\u001b[0;34m)\u001b[0m\u001b[0;34m\u001b[0m\u001b[0;34m\u001b[0m\u001b[0m\n\u001b[1;32m    253\u001b[0m         user_data = {'name': experiment.header.name, 'memory_slots': experiment.header.memory_slots,\n",
      "\u001b[0;32m~/py_env/py_tn/lib/python3.9/site-packages/quantuminspire/qiskit/backend_qx.py\u001b[0m in \u001b[0;36m_generate_cqasm\u001b[0;34m(experiment, full_state_projection)\u001b[0m\n\u001b[1;32m    243\u001b[0m             \u001b[0mstream\u001b[0m\u001b[0;34m.\u001b[0m\u001b[0mwrite\u001b[0m\u001b[0;34m(\u001b[0m\u001b[0;34m'qubits %d\\n'\u001b[0m \u001b[0;34m%\u001b[0m \u001b[0mnumber_of_qubits\u001b[0m\u001b[0;34m)\u001b[0m\u001b[0;34m\u001b[0m\u001b[0;34m\u001b[0m\u001b[0m\n\u001b[1;32m    244\u001b[0m             \u001b[0;32mfor\u001b[0m \u001b[0minstruction\u001b[0m \u001b[0;32min\u001b[0m \u001b[0minstructions\u001b[0m\u001b[0;34m:\u001b[0m\u001b[0;34m\u001b[0m\u001b[0;34m\u001b[0m\u001b[0m\n\u001b[0;32m--> 245\u001b[0;31m                 \u001b[0mparser\u001b[0m\u001b[0;34m.\u001b[0m\u001b[0mparse\u001b[0m\u001b[0;34m(\u001b[0m\u001b[0mstream\u001b[0m\u001b[0;34m,\u001b[0m \u001b[0minstruction\u001b[0m\u001b[0;34m)\u001b[0m\u001b[0;34m\u001b[0m\u001b[0;34m\u001b[0m\u001b[0m\n\u001b[0m\u001b[1;32m    246\u001b[0m             \u001b[0;32mreturn\u001b[0m \u001b[0mstream\u001b[0m\u001b[0;34m.\u001b[0m\u001b[0mgetvalue\u001b[0m\u001b[0;34m(\u001b[0m\u001b[0;34m)\u001b[0m\u001b[0;34m\u001b[0m\u001b[0;34m\u001b[0m\u001b[0m\n\u001b[1;32m    247\u001b[0m \u001b[0;34m\u001b[0m\u001b[0m\n",
      "\u001b[0;32m~/py_env/py_tn/lib/python3.9/site-packages/quantuminspire/qiskit/circuit_parser.py\u001b[0m in \u001b[0;36mparse\u001b[0;34m(self, stream, instruction)\u001b[0m\n\u001b[1;32m    701\u001b[0m             \u001b[0mgate_name\u001b[0m \u001b[0;34m=\u001b[0m \u001b[0;34mf'_{instruction.name.lower()}'\u001b[0m\u001b[0;34m\u001b[0m\u001b[0;34m\u001b[0m\u001b[0m\n\u001b[1;32m    702\u001b[0m             \u001b[0mgate_function\u001b[0m \u001b[0;34m=\u001b[0m \u001b[0mgetattr\u001b[0m\u001b[0;34m(\u001b[0m\u001b[0mself\u001b[0m\u001b[0;34m,\u001b[0m \u001b[0mgate_name\u001b[0m\u001b[0;34m,\u001b[0m \u001b[0mgetattr\u001b[0m\u001b[0;34m(\u001b[0m\u001b[0mself\u001b[0m\u001b[0;34m,\u001b[0m \u001b[0;34m\"_gate_not_supported\"\u001b[0m\u001b[0;34m)\u001b[0m\u001b[0;34m)\u001b[0m\u001b[0;34m\u001b[0m\u001b[0;34m\u001b[0m\u001b[0m\n\u001b[0;32m--> 703\u001b[0;31m             \u001b[0mgate_function\u001b[0m\u001b[0;34m(\u001b[0m\u001b[0mstream\u001b[0m\u001b[0;34m,\u001b[0m \u001b[0minstruction\u001b[0m\u001b[0;34m)\u001b[0m\u001b[0;34m\u001b[0m\u001b[0;34m\u001b[0m\u001b[0m\n\u001b[0m",
      "\u001b[0;32m~/py_env/py_tn/lib/python3.9/site-packages/quantuminspire/qiskit/circuit_parser.py\u001b[0m in \u001b[0;36m_gate_not_supported\u001b[0;34m(_stream, instruction, _binary_control)\u001b[0m\n\u001b[1;32m     49\u001b[0m             \u001b[0;32mraise\u001b[0m \u001b[0mApiError\u001b[0m\u001b[0;34m(\u001b[0m\u001b[0;34mf'Conditional gate c-{instruction.name.lower()} not supported'\u001b[0m\u001b[0;34m)\u001b[0m\u001b[0;34m\u001b[0m\u001b[0;34m\u001b[0m\u001b[0m\n\u001b[1;32m     50\u001b[0m \u001b[0;34m\u001b[0m\u001b[0m\n\u001b[0;32m---> 51\u001b[0;31m         \u001b[0;32mraise\u001b[0m \u001b[0mApiError\u001b[0m\u001b[0;34m(\u001b[0m\u001b[0;34mf'Gate {instruction.name.lower()} not supported'\u001b[0m\u001b[0;34m)\u001b[0m\u001b[0;34m\u001b[0m\u001b[0;34m\u001b[0m\u001b[0m\n\u001b[0m\u001b[1;32m     52\u001b[0m \u001b[0;34m\u001b[0m\u001b[0m\n\u001b[1;32m     53\u001b[0m     \u001b[0;34m@\u001b[0m\u001b[0mstaticmethod\u001b[0m\u001b[0;34m\u001b[0m\u001b[0;34m\u001b[0m\u001b[0m\n",
      "\u001b[0;31mApiError\u001b[0m: Gate reset not supported"
     ]
    }
   ],
   "source": [
    "#statevect = qiskit_get_statevect(qc, qi_backend)\n",
    "statevector = execute(qc, starmon_backend).result()\n",
    "#print_state(statevect)"
   ]
  },
  {
   "cell_type": "code",
   "execution_count": 30,
   "metadata": {},
   "outputs": [
    {
     "name": "stdout",
     "output_type": "stream",
     "text": [
      "{'00000': 225, '00001': 17, '00010': 15, '00011': 1, '00100': 152, '00101': 11, '00110': 8, '00111': 12, '01000': 14, '01001': 2, '01010': 3, '01011': 16, '01100': 8, '01101': 2, '01110': 5, '01111': 20, '10000': 57, '10001': 10, '10010': 4, '10011': 22, '10100': 40, '10101': 18, '10110': 9, '10111': 42, '11000': 5, '11001': 20, '11010': 17, '11011': 100, '11100': 12, '11101': 26, '11110': 30, '11111': 101}\n"
     ]
    },
    {
     "data": {
      "image/png": "[encoded data removed]",
      "text/plain": [
       "<Figure size 864x432 with 1 Axes>"
      ]
     },
     "metadata": {
      "needs_background": "light"
     },
     "output_type": "display_data"
    }
   ],
   "source": [
    "counts = statevector.get_counts()\n",
    "\n",
    "plot_histogram( statevector.get_counts(), figsize=(12, 6) )\n",
    "plt.show()"
   ]
  },
  {
   "cell_type": "code",
   "execution_count": 86,
   "metadata": {},
   "outputs": [
    {
     "name": "stdout",
     "output_type": "stream",
     "text": [
      "             ┌───┐                           ░ ┌───┐          \n",
      "q220_0: ─────┤ X ├─────────────────────■─────░─┤ X ├──■───────\n",
      "             └─┬─┘┌───┐                │     ░ └───┘  │       \n",
      "q220_1: ───────┼──┤ X ├────────────────┼─────░────────┼────■──\n",
      "        ┌───┐  │  └─┬─┘          ┌───┐ │ ┌─┐ ░      ┌─┴─┐┌─┴─┐\n",
      "q220_2: ┤ H ├──■────■────■────■──┤ H ├─■─┤M├─░──|0>─┤ X ├┤ X ├\n",
      "        └───┘          ┌─┴─┐  │  └───┘   └╥┘ ░      └───┘└───┘\n",
      "q220_3: ───────────────┤ X ├──┼───────────╫──░────────────────\n",
      "                       └───┘┌─┴─┐         ║  ░                \n",
      "q220_4: ────────────────────┤ X ├─────────╫──░────────────────\n",
      "                            └───┘         ║  ░                \n",
      "  c2: 1/══════════════════════════════════╩═══════════════════\n",
      "                                          0                   \n",
      "0.707|00101> + 0.707|11110>\n"
     ]
    }
   ],
   "source": [
    "qc1 = qc.copy()\n",
    "\n",
    "# Insert bit-flip error\n",
    "qc1.x(0)\n",
    "\n",
    "# Syndrome measurement\n",
    "qc1.reset(2)\n",
    "qc1.cx(0, 2)\n",
    "qc1.cx(1, 2)\n",
    "#qc1.cx(3, 2)\n",
    "#qc1.cx(4, 2)\n",
    "#qc1.measure(2, 0)\n",
    "#qc1.x(0).c_if(creg, 1)\n",
    "\n",
    "print(qc1)\n",
    "\n",
    "statevect = qiskit_get_statevect(qc1)\n",
    "print_state(statevect)"
   ]
  },
  {
   "cell_type": "code",
   "execution_count": 87,
   "metadata": {},
   "outputs": [],
   "source": [
    "cbit = creg[0]"
   ]
  },
  {
   "cell_type": "code",
   "execution_count": 11,
   "metadata": {},
   "outputs": [
    {
     "data": {
      "text/plain": [
       "[<QuantumInspireBackend('Spin-2')>,\n",
       " <QuantumInspireBackend('Starmon-5')>,\n",
       " <QuantumInspireBackend('QX-34-L')>,\n",
       " <QuantumInspireBackend('QX single-node simulator')>]"
      ]
     },
     "execution_count": 11,
     "metadata": {},
     "output_type": "execute_result"
    }
   ],
   "source": [
    "QI.backends()"
   ]
  },
  {
   "cell_type": "code",
   "execution_count": null,
   "metadata": {},
   "outputs": [],
   "source": []
  }
 ],
 "metadata": {
  "interpreter": {
   "hash": "639848ca415c9b0e020bb8071f32c875f804b698c3fc0c66541f206d1ea5634d"
  },
  "kernelspec": {
   "display_name": "Python 3.9.7 64-bit ('py_tn': venv)",
   "language": "python",
   "name": "python3"
  },
  "language_info": {
   "codemirror_mode": {
    "name": "ipython",
    "version": 3
   },
   "file_extension": ".py",
   "mimetype": "text/x-python",
   "name": "python",
   "nbconvert_exporter": "python",
   "pygments_lexer": "ipython3",
   "version": "3.9.7"
  },
  "orig_nbformat": 4
 },
 "nbformat": 4,
 "nbformat_minor": 2
}
