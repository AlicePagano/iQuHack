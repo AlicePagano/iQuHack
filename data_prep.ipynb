{
 "cells": [
  {
   "cell_type": "code",
   "execution_count": 1,
   "id": "large-prophet",
   "metadata": {},
   "outputs": [],
   "source": [
    "import numpy as np\n",
    "import pandas as %pd"
   ]
  },
  {
   "cell_type": "code",
   "execution_count": 54,
   "id": "emerging-brazil",
   "metadata": {},
   "outputs": [],
   "source": [
    "meas_cycle = [\n",
    "\"[0,1]\", \"[1,3]\",\n",
    "\"[1,3]\", \"[3,4]\",\n",
    "\"[3,4]\", \"[4,0]\",\n",
    "\"[4,0]\", \"[0,1]\"]\n",
    "\n",
    "Ncycle = 5\n",
    "\n",
    "states = [\"00\",\"01\",\"10\",\"11\"]"
   ]
  },
  {
   "cell_type": "code",
   "execution_count": 58,
   "id": "recovered-subject",
   "metadata": {},
   "outputs": [],
   "source": [
    "features =  [\"cycle\"+str(c)+\"-\"+str(m)+\"-\"+ str(s) for c in range(Ncycle) for m in meas_cycle for s in states]"
   ]
  },
  {
   "cell_type": "code",
   "execution_count": 59,
   "id": "obvious-portsmouth",
   "metadata": {},
   "outputs": [
    {
     "data": {
      "text/plain": [
       "160"
      ]
     },
     "execution_count": 59,
     "metadata": {},
     "output_type": "execute_result"
    }
   ],
   "source": [
    "len(features)"
   ]
  },
  {
   "cell_type": "code",
   "execution_count": 61,
   "id": "norman-condition",
   "metadata": {},
   "outputs": [
    {
     "data": {
      "text/plain": [
       "['cycle0-[0,1]-00',\n",
       " 'cycle0-[0,1]-01',\n",
       " 'cycle0-[0,1]-10',\n",
       " 'cycle0-[0,1]-11',\n",
       " 'cycle0-[1,3]-00',\n",
       " 'cycle0-[1,3]-01',\n",
       " 'cycle0-[1,3]-10',\n",
       " 'cycle0-[1,3]-11',\n",
       " 'cycle0-[1,3]-00',\n",
       " 'cycle0-[1,3]-01',\n",
       " 'cycle0-[1,3]-10',\n",
       " 'cycle0-[1,3]-11',\n",
       " 'cycle0-[3,4]-00',\n",
       " 'cycle0-[3,4]-01',\n",
       " 'cycle0-[3,4]-10',\n",
       " 'cycle0-[3,4]-11',\n",
       " 'cycle0-[3,4]-00',\n",
       " 'cycle0-[3,4]-01',\n",
       " 'cycle0-[3,4]-10',\n",
       " 'cycle0-[3,4]-11',\n",
       " 'cycle0-[4,0]-00',\n",
       " 'cycle0-[4,0]-01',\n",
       " 'cycle0-[4,0]-10',\n",
       " 'cycle0-[4,0]-11',\n",
       " 'cycle0-[4,0]-00',\n",
       " 'cycle0-[4,0]-01',\n",
       " 'cycle0-[4,0]-10',\n",
       " 'cycle0-[4,0]-11',\n",
       " 'cycle0-[0,1]-00',\n",
       " 'cycle0-[0,1]-01',\n",
       " 'cycle0-[0,1]-10',\n",
       " 'cycle0-[0,1]-11',\n",
       " 'cycle1-[0,1]-00',\n",
       " 'cycle1-[0,1]-01',\n",
       " 'cycle1-[0,1]-10',\n",
       " 'cycle1-[0,1]-11',\n",
       " 'cycle1-[1,3]-00',\n",
       " 'cycle1-[1,3]-01',\n",
       " 'cycle1-[1,3]-10',\n",
       " 'cycle1-[1,3]-11',\n",
       " 'cycle1-[1,3]-00',\n",
       " 'cycle1-[1,3]-01',\n",
       " 'cycle1-[1,3]-10',\n",
       " 'cycle1-[1,3]-11',\n",
       " 'cycle1-[3,4]-00',\n",
       " 'cycle1-[3,4]-01',\n",
       " 'cycle1-[3,4]-10',\n",
       " 'cycle1-[3,4]-11',\n",
       " 'cycle1-[3,4]-00',\n",
       " 'cycle1-[3,4]-01',\n",
       " 'cycle1-[3,4]-10',\n",
       " 'cycle1-[3,4]-11',\n",
       " 'cycle1-[4,0]-00',\n",
       " 'cycle1-[4,0]-01',\n",
       " 'cycle1-[4,0]-10',\n",
       " 'cycle1-[4,0]-11',\n",
       " 'cycle1-[4,0]-00',\n",
       " 'cycle1-[4,0]-01',\n",
       " 'cycle1-[4,0]-10',\n",
       " 'cycle1-[4,0]-11',\n",
       " 'cycle1-[0,1]-00',\n",
       " 'cycle1-[0,1]-01',\n",
       " 'cycle1-[0,1]-10',\n",
       " 'cycle1-[0,1]-11',\n",
       " 'cycle2-[0,1]-00',\n",
       " 'cycle2-[0,1]-01',\n",
       " 'cycle2-[0,1]-10',\n",
       " 'cycle2-[0,1]-11',\n",
       " 'cycle2-[1,3]-00',\n",
       " 'cycle2-[1,3]-01',\n",
       " 'cycle2-[1,3]-10',\n",
       " 'cycle2-[1,3]-11',\n",
       " 'cycle2-[1,3]-00',\n",
       " 'cycle2-[1,3]-01',\n",
       " 'cycle2-[1,3]-10',\n",
       " 'cycle2-[1,3]-11',\n",
       " 'cycle2-[3,4]-00',\n",
       " 'cycle2-[3,4]-01',\n",
       " 'cycle2-[3,4]-10',\n",
       " 'cycle2-[3,4]-11',\n",
       " 'cycle2-[3,4]-00',\n",
       " 'cycle2-[3,4]-01',\n",
       " 'cycle2-[3,4]-10',\n",
       " 'cycle2-[3,4]-11',\n",
       " 'cycle2-[4,0]-00',\n",
       " 'cycle2-[4,0]-01',\n",
       " 'cycle2-[4,0]-10',\n",
       " 'cycle2-[4,0]-11',\n",
       " 'cycle2-[4,0]-00',\n",
       " 'cycle2-[4,0]-01',\n",
       " 'cycle2-[4,0]-10',\n",
       " 'cycle2-[4,0]-11',\n",
       " 'cycle2-[0,1]-00',\n",
       " 'cycle2-[0,1]-01',\n",
       " 'cycle2-[0,1]-10',\n",
       " 'cycle2-[0,1]-11',\n",
       " 'cycle3-[0,1]-00',\n",
       " 'cycle3-[0,1]-01',\n",
       " 'cycle3-[0,1]-10',\n",
       " 'cycle3-[0,1]-11',\n",
       " 'cycle3-[1,3]-00',\n",
       " 'cycle3-[1,3]-01',\n",
       " 'cycle3-[1,3]-10',\n",
       " 'cycle3-[1,3]-11',\n",
       " 'cycle3-[1,3]-00',\n",
       " 'cycle3-[1,3]-01',\n",
       " 'cycle3-[1,3]-10',\n",
       " 'cycle3-[1,3]-11',\n",
       " 'cycle3-[3,4]-00',\n",
       " 'cycle3-[3,4]-01',\n",
       " 'cycle3-[3,4]-10',\n",
       " 'cycle3-[3,4]-11',\n",
       " 'cycle3-[3,4]-00',\n",
       " 'cycle3-[3,4]-01',\n",
       " 'cycle3-[3,4]-10',\n",
       " 'cycle3-[3,4]-11',\n",
       " 'cycle3-[4,0]-00',\n",
       " 'cycle3-[4,0]-01',\n",
       " 'cycle3-[4,0]-10',\n",
       " 'cycle3-[4,0]-11',\n",
       " 'cycle3-[4,0]-00',\n",
       " 'cycle3-[4,0]-01',\n",
       " 'cycle3-[4,0]-10',\n",
       " 'cycle3-[4,0]-11',\n",
       " 'cycle3-[0,1]-00',\n",
       " 'cycle3-[0,1]-01',\n",
       " 'cycle3-[0,1]-10',\n",
       " 'cycle3-[0,1]-11',\n",
       " 'cycle4-[0,1]-00',\n",
       " 'cycle4-[0,1]-01',\n",
       " 'cycle4-[0,1]-10',\n",
       " 'cycle4-[0,1]-11',\n",
       " 'cycle4-[1,3]-00',\n",
       " 'cycle4-[1,3]-01',\n",
       " 'cycle4-[1,3]-10',\n",
       " 'cycle4-[1,3]-11',\n",
       " 'cycle4-[1,3]-00',\n",
       " 'cycle4-[1,3]-01',\n",
       " 'cycle4-[1,3]-10',\n",
       " 'cycle4-[1,3]-11',\n",
       " 'cycle4-[3,4]-00',\n",
       " 'cycle4-[3,4]-01',\n",
       " 'cycle4-[3,4]-10',\n",
       " 'cycle4-[3,4]-11',\n",
       " 'cycle4-[3,4]-00',\n",
       " 'cycle4-[3,4]-01',\n",
       " 'cycle4-[3,4]-10',\n",
       " 'cycle4-[3,4]-11',\n",
       " 'cycle4-[4,0]-00',\n",
       " 'cycle4-[4,0]-01',\n",
       " 'cycle4-[4,0]-10',\n",
       " 'cycle4-[4,0]-11',\n",
       " 'cycle4-[4,0]-00',\n",
       " 'cycle4-[4,0]-01',\n",
       " 'cycle4-[4,0]-10',\n",
       " 'cycle4-[4,0]-11',\n",
       " 'cycle4-[0,1]-00',\n",
       " 'cycle4-[0,1]-01',\n",
       " 'cycle4-[0,1]-10',\n",
       " 'cycle4-[0,1]-11']"
      ]
     },
     "execution_count": 61,
     "metadata": {},
     "output_type": "execute_result"
    }
   ],
   "source": [
    "features"
   ]
  },
  {
   "cell_type": "code",
   "execution_count": 62,
   "id": "relevant-insured",
   "metadata": {},
   "outputs": [
    {
     "name": "stdout",
     "output_type": "stream",
     "text": [
      "\u001b[33mhint: Pulling without specifying how to reconcile divergent branches is\u001b[m\n",
      "\u001b[33mhint: discouraged. You can squelch this message by running one of the following\u001b[m\n",
      "\u001b[33mhint: commands sometime before your next pull:\u001b[m\n",
      "\u001b[33mhint: \u001b[m\n",
      "\u001b[33mhint:   git config pull.rebase false  # merge (the default strategy)\u001b[m\n",
      "\u001b[33mhint:   git config pull.rebase true   # rebase\u001b[m\n",
      "\u001b[33mhint:   git config pull.ff only       # fast-forward only\u001b[m\n",
      "\u001b[33mhint: \u001b[m\n",
      "\u001b[33mhint: You can replace \"git config\" with \"git config --global\" to set a default\u001b[m\n",
      "\u001b[33mhint: preference for all repositories. You can also pass --rebase, --no-rebase,\u001b[m\n",
      "\u001b[33mhint: or --ff-only on the command line to override the configured default per\u001b[m\n",
      "\u001b[33mhint: invocation.\u001b[m\n",
      "remote: Enumerating objects: 25, done.\u001b[K\n",
      "remote: Counting objects: 100% (25/25), done.\u001b[K\n",
      "remote: Compressing objects: 100% (17/17), done.\u001b[K\n",
      "remote: Total 23 (delta 8), reused 20 (delta 5), pack-reused 0\u001b[K\n",
      "Unpacking objects: 100% (23/23), 36.84 KiB | 290.00 KiB/s, done.\n",
      "From github.com:AlicePagano/iQuHack\n",
      "   2c9c949..69f71a9  marcob     -> origin/marcob\n",
      "Already up to date.\n"
     ]
    }
   ],
   "source": [
    "!git pull"
   ]
  },
  {
   "cell_type": "code",
   "execution_count": 63,
   "id": "limited-jason",
   "metadata": {},
   "outputs": [
    {
     "name": "stdout",
     "output_type": "stream",
     "text": [
      "README.md           data_prep.ipynb     rf_classifier.ipynb tree.png\r\n",
      "Untitled.ipynb      music.py            tree.dot\r\n"
     ]
    }
   ],
   "source": [
    "!ls"
   ]
  },
  {
   "cell_type": "code",
   "execution_count": 64,
   "id": "fatty-alignment",
   "metadata": {},
   "outputs": [
    {
     "name": "stdout",
     "output_type": "stream",
     "text": [
      "error: pathspec 'master' did not match any file(s) known to git\r\n"
     ]
    }
   ],
   "source": [
    "!git checkout master"
   ]
  },
  {
   "cell_type": "code",
   "execution_count": null,
   "id": "parliamentary-tribe",
   "metadata": {},
   "outputs": [],
   "source": [
    "!"
   ]
  }
 ],
 "metadata": {
  "kernelspec": {
   "display_name": "Python 3",
   "language": "python",
   "name": "python3"
  },
  "language_info": {
   "codemirror_mode": {
    "name": "ipython",
    "version": 3
   },
   "file_extension": ".py",
   "mimetype": "text/x-python",
   "name": "python",
   "nbconvert_exporter": "python",
   "pygments_lexer": "ipython3",
   "version": "3.9.1"
  }
 },
 "nbformat": 4,
 "nbformat_minor": 5
}
